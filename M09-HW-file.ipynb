{
 "cells": [
  {
   "cell_type": "markdown",
   "id": "bbea800c-241d-42b4-a744-ecaffe13959e",
   "metadata": {},
   "source": [
    "# Metadata\n",
    "\n",
    "```yaml\n",
    "Course:  DS 5100\n",
    "Module:  09 Python Packages\n",
    "Topic:   HW Package Booklover\n",
    "Author:  R.C. Alvarado (adapted)\n",
    "Date:    7 July 2023 (revised)\n",
    "```"
   ]
  },
  {
   "cell_type": "markdown",
   "id": "36f46fdd-2405-4dc8-9ea1-33f395e56cc0",
   "metadata": {},
   "source": [
    "# Student Info\n",
    "\n",
    "* Name: Hamsini Muralikrishnan\n",
    "* Net UD: hm7qgr\n",
    "* URL of this file in GitHub: https://github.com/hamsinimk/M09-HW"
   ]
  },
  {
   "cell_type": "markdown",
   "id": "375875a8-1503-46eb-8ea1-7e5bf39b5c41",
   "metadata": {},
   "source": [
    "# Instructions\n",
    "\n",
    "In your **private course repo on Rivanna**, use this Jupyter notebook and the data file described to write code that performs the tasks below. \n",
    "\n",
    "Save your notebook in the `M09` directory.\n",
    "\n",
    "Remember to add and commit these files to your repo. \n",
    "\n",
    "Then push your commits to your repo on GitHib.\n",
    "\n",
    "Be sure to fill out the **Student Info** block above.\n",
    "\n",
    "To submit your homework, save your results as a PDF and upload it to GradeScope. More information about how to create the PDF for this assignment are included at the end of this document.\n",
    "\n",
    "**TOTAL POINTS: 8**"
   ]
  },
  {
   "cell_type": "markdown",
   "id": "1baf08dc-35fe-44f1-bc26-7e1130ee993e",
   "metadata": {},
   "source": [
    "# Overview\n",
    "\n",
    "Follow the following recipe we used in class to package the code you wrote for `HW08` -- `booklover.py` and `booklover_test.py`.\n",
    "\n",
    "* Create a new git repo for your package.\n",
    "* Create and edit the required files and directories for your package and move the booklover modules there.\n",
    "* Stage, commit, and push all the files you've created.\n",
    "* Install your package with pip.\n",
    "* Outside of your package dir, write a script to test your method.\n",
    "\n",
    "Put this notebook in your repo. This will allow you to execute bash commands and capture the outpunt directly in the notebook.\n",
    "\n",
    "**TOTAL: 8 POINTS**"
   ]
  },
  {
   "cell_type": "markdown",
   "id": "6e39ba79-49ee-41e8-9e49-23d9d6bac2e0",
   "metadata": {
    "tags": []
   },
   "source": [
    "# Tasks"
   ]
  },
  {
   "cell_type": "markdown",
   "id": "fb11de14",
   "metadata": {},
   "source": [
    "## Task 1\n",
    "\n",
    "(5 points)\n",
    "\n",
    "Show the directory structure of your repo by running this command from the root of your repo:"
   ]
  },
  {
   "cell_type": "code",
   "execution_count": 1,
   "id": "7e6c6607",
   "metadata": {
    "tags": []
   },
   "outputs": [
    {
     "name": "stdout",
     "output_type": "stream",
     "text": [
      ".:\n",
      "total 20\n",
      "-rw------- 1 hm7qgr users  193 Nov  3 21:41 book_lover_demo.py\n",
      "drwx--S--- 4 hm7qgr users 4096 Oct 31 21:23 build\n",
      "drwx--S--- 4 hm7qgr users 4096 Nov  3 21:38 homework\n",
      "drwx--S--- 2 hm7qgr users 4096 Oct 31 21:23 Homework.egg-info\n",
      "-rw------- 1 hm7qgr users 1066 Oct 31 18:56 LICENSE\n",
      "-rw------- 1 hm7qgr users 5203 Nov  3 22:05 M09-HW-1-1.ipynb\n",
      "-rw------- 1 hm7qgr users 7041 Nov  3 22:05 M09-HW-file.ipynb\n",
      "-rw------- 1 hm7qgr users   39 Oct 31 18:56 README.md\n",
      "-rw------- 1 hm7qgr users  285 Oct 31 21:38 setup.py\n",
      "\n",
      "./build:\n",
      "total 1\n",
      "drwx--S--- 2 hm7qgr users 4096 Oct 31 21:23 bdist.linux-x86_64\n",
      "drwx--S--- 3 hm7qgr users 4096 Oct 31 21:23 lib\n",
      "\n",
      "./build/bdist.linux-x86_64:\n",
      "total 0\n",
      "\n",
      "./build/lib:\n",
      "total 1\n",
      "drwx--S--- 2 hm7qgr users 4096 Oct 31 21:23 homework\n",
      "\n",
      "./build/lib/homework:\n",
      "total 2\n",
      "-rw------- 1 hm7qgr users  959 Oct 31 20:15 booklover.py\n",
      "-rw------- 1 hm7qgr users 2639 Oct 31 20:15 booklover_test.py\n",
      "-rw------- 1 hm7qgr users   95 Oct 31 20:36 __init__.py\n",
      "\n",
      "./homework:\n",
      "total 2\n",
      "-rw------- 1 hm7qgr users  959 Oct 31 22:06 booklover.py\n",
      "-rw------- 1 hm7qgr users 2640 Nov  3 21:38 booklover_test.py\n",
      "-rw------- 1 hm7qgr users   81 Nov  3 21:38 __init__.py\n",
      "drwx--S--- 2 hm7qgr users 4096 Nov  3 21:38 __pycache__\n",
      "\n",
      "./homework/__pycache__:\n",
      "total 9\n",
      "-rw------- 1 hm7qgr users 2117 Oct 31 22:06 booklover.cpython-311.pyc\n",
      "-rw------- 1 hm7qgr users 4261 Nov  3 21:38 booklover_test.cpython-311.pyc\n",
      "-rw------- 1 hm7qgr users  321 Nov  3 21:38 __init__.cpython-311.pyc\n",
      "\n",
      "./Homework.egg-info:\n",
      "total 2\n",
      "-rw------- 1 hm7qgr users   1 Oct 31 21:23 dependency_links.txt\n",
      "-rw-r--r-- 1 hm7qgr users 225 Oct 31 21:23 PKG-INFO\n",
      "-rw------- 1 hm7qgr users 224 Oct 31 21:23 SOURCES.txt\n",
      "-rw------- 1 hm7qgr users   9 Oct 31 21:23 top_level.txt\n"
     ]
    }
   ],
   "source": [
    "!ls -lR"
   ]
  },
  {
   "cell_type": "markdown",
   "id": "6b6f288b-05aa-441b-8c73-84b50b3b6844",
   "metadata": {},
   "source": [
    "## Task 2\n",
    "\n",
    "(1 point)\n",
    "\n",
    "Put the URL of your GitHub repo here. Just paste it into a Markdown cell."
   ]
  },
  {
   "cell_type": "markdown",
   "id": "4d09d889-6104-4f20-b31c-2d8a72b17693",
   "metadata": {},
   "source": [
    "URL: https://github.com/hamsinimk/M09-HW"
   ]
  },
  {
   "cell_type": "markdown",
   "id": "f989dcd1-b1d2-4eb9-8ef6-8ca2d8495260",
   "metadata": {
    "lines_to_next_cell": 0
   },
   "source": [
    "## Task 3\n",
    "\n",
    "(1 point)\n",
    "\n",
    "Show the results of installing your package.\n",
    "\n",
    "```bash\n",
    "!pip install -e .\n",
    "```"
   ]
  },
  {
   "cell_type": "code",
   "execution_count": 4,
   "id": "b889858c-a459-405f-848b-b128a36de3da",
   "metadata": {
    "tags": []
   },
   "outputs": [
    {
     "name": "stdout",
     "output_type": "stream",
     "text": [
      "Defaulting to user installation because normal site-packages is not writeable\n",
      "Obtaining file:///sfs/gpfs/tardis/home/hm7qgr/Documents/MSDS/DS5100/M09/M09-HW\n",
      "  Preparing metadata (setup.py) ... \u001b[?25ldone\n",
      "\u001b[?25hInstalling collected packages: Homework\n",
      "  Attempting uninstall: Homework\n",
      "    Found existing installation: Homework 0.1\n",
      "    Uninstalling Homework-0.1:\n",
      "      Successfully uninstalled Homework-0.1\n",
      "  Running setup.py develop for Homework\n",
      "Successfully installed Homework-0.1\n"
     ]
    }
   ],
   "source": [
    "!pip install -e ."
   ]
  },
  {
   "cell_type": "markdown",
   "id": "5b1a642e-74f0-43ff-97a3-9ddc7553978e",
   "metadata": {},
   "source": [
    "## Task 4\n",
    "\n",
    "(1 point)\n",
    "\n",
    "Create a file outside your repo to test your package by running it.\n",
    "\n",
    "To do this, import the package into your file and create a BookLover object.\n",
    "\n",
    "Then add a book and then print number books read.\n",
    "\n",
    "Then run the file. \n",
    "\n",
    "Show the output of running the file below, using a command like the following:\n",
    "\n",
    "```bash\n",
    "!python ../book_lover_demo.py\n",
    "```"
   ]
  },
  {
   "cell_type": "code",
   "execution_count": 2,
   "id": "5924fca8-6483-4f2b-a33f-6550d1726d6e",
   "metadata": {
    "tags": []
   },
   "outputs": [
    {
     "name": "stdout",
     "output_type": "stream",
     "text": [
      "1\n"
     ]
    }
   ],
   "source": [
    "!python /sfs/gpfs/tardis/home/hm7qgr/Documents/MSDS/DS5100/M09/M09-HW/book_lover_demo.py"
   ]
  }
 ],
 "metadata": {
  "jupytext": {
   "cell_metadata_filter": "-all",
   "main_language": "bash",
   "notebook_metadata_filter": "-all"
  },
  "kernelspec": {
   "display_name": "Python 3 (ipykernel)",
   "language": "python",
   "name": "python3"
  },
  "language_info": {
   "codemirror_mode": {
    "name": "ipython",
    "version": 3
   },
   "file_extension": ".py",
   "mimetype": "text/x-python",
   "name": "python",
   "nbconvert_exporter": "python",
   "pygments_lexer": "ipython3",
   "version": "3.11.4"
  },
  "vscode": {
   "interpreter": {
    "hash": "c3b963de08c47c3b6758389c5e0978ad73698a111eb508d4e16b558edb8f4cbf"
   }
  },
  "widgets": {
   "application/vnd.jupyter.widget-state+json": {
    "state": {},
    "version_major": 2,
    "version_minor": 0
   }
  }
 },
 "nbformat": 4,
 "nbformat_minor": 5
}
